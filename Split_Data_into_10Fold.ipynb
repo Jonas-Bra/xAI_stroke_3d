{
 "cells": [
  {
   "cell_type": "markdown",
   "metadata": {},
   "source": [
    "## Import Libraries and Install Packages"
   ]
  },
  {
   "cell_type": "code",
   "execution_count": 1,
   "metadata": {},
   "outputs": [
    {
     "name": "stdout",
     "output_type": "stream",
     "text": [
      "Requirement already satisfied: seaborn in /usr/local/lib/python3.6/dist-packages (0.11.2)\n",
      "Requirement already satisfied: matplotlib>=2.2 in /usr/local/lib/python3.6/dist-packages (from seaborn) (3.3.3)\n",
      "Requirement already satisfied: numpy>=1.15 in /usr/local/lib/python3.6/dist-packages (from seaborn) (1.19.4)\n",
      "Requirement already satisfied: pandas>=0.23 in /usr/local/lib/python3.6/dist-packages (from seaborn) (1.1.5)\n",
      "Requirement already satisfied: scipy>=1.0 in /usr/local/lib/python3.6/dist-packages (from seaborn) (1.5.4)\n",
      "Requirement already satisfied: cycler>=0.10 in /usr/local/lib/python3.6/dist-packages (from matplotlib>=2.2->seaborn) (0.10.0)\n",
      "Requirement already satisfied: python-dateutil>=2.1 in /usr/local/lib/python3.6/dist-packages (from matplotlib>=2.2->seaborn) (2.8.1)\n",
      "Requirement already satisfied: kiwisolver>=1.0.1 in /usr/local/lib/python3.6/dist-packages (from matplotlib>=2.2->seaborn) (1.3.1)\n",
      "Requirement already satisfied: pyparsing!=2.0.4,!=2.1.2,!=2.1.6,>=2.0.3 in /usr/local/lib/python3.6/dist-packages (from matplotlib>=2.2->seaborn) (2.4.7)\n",
      "Requirement already satisfied: pillow>=6.2.0 in /usr/local/lib/python3.6/dist-packages (from matplotlib>=2.2->seaborn) (8.0.1)\n",
      "Requirement already satisfied: six in /usr/local/lib/python3.6/dist-packages (from cycler>=0.10->matplotlib>=2.2->seaborn) (1.15.0)\n",
      "Requirement already satisfied: pytz>=2017.2 in /usr/local/lib/python3.6/dist-packages (from pandas>=0.23->seaborn) (2021.1)\n",
      "\u001b[33mWARNING: You are using pip version 21.0.1; however, version 21.3.1 is available.\n",
      "You should consider upgrading via the '/usr/bin/python3 -m pip install --upgrade pip' command.\u001b[0m\n"
     ]
    }
   ],
   "source": [
    "!pip install seaborn"
   ]
  },
  {
   "cell_type": "code",
   "execution_count": 2,
   "metadata": {},
   "outputs": [],
   "source": [
    "%matplotlib inline\n",
    "\n",
    "import os\n",
    "import h5py\n",
    "import random\n",
    "import pandas as pd\n",
    "import numpy as np\n",
    "\n",
    "import matplotlib.pyplot as plt\n",
    "import seaborn as sns\n",
    "\n",
    "from sklearn.model_selection import StratifiedKFold"
   ]
  },
  {
   "cell_type": "markdown",
   "metadata": {},
   "source": [
    "## Load Data"
   ]
  },
  {
   "cell_type": "code",
   "execution_count": 3,
   "metadata": {},
   "outputs": [],
   "source": [
    "IMG_DIR = \"/tf/notebooks/hezo/stroke_zurich/data/\" \n",
    "# IMG_DIR2 = \"/tf/notebooks/kook/data-sets/stroke-lh/\"\n",
    "OUTPUT_DIR = \"/tf/notebooks/brdd/xAI_3d/data/\""
   ]
  },
  {
   "cell_type": "code",
   "execution_count": 4,
   "metadata": {},
   "outputs": [
    {
     "name": "stdout",
     "output_type": "stream",
     "text": [
      "image shape in:  (439, 128, 128, 28, 1)\n",
      "image min, max, mean, std:  -0.7314910890799393 26.423200798592248 -4.100563400421584e-18 1.0\n",
      "tabular shape in:  (507, 16)\n"
     ]
    }
   ],
   "source": [
    "path_img = IMG_DIR + 'dicom_2d_192x192x3_clean_interpolated_18_02_2021_preprocessed2.h5'\n",
    "path_tab = IMG_DIR + 'baseline_data_zurich_prepared.csv'\n",
    "\n",
    "with h5py.File(path_img, \"r\") as h5:\n",
    "# with h5py.File(IMG_DIR2 + 'dicom-3d.h5', \"r\") as h5:\n",
    "# both images are the same\n",
    "    X_in = h5[\"X\"][:]\n",
    "    Y_img = h5[\"Y_img\"][:]\n",
    "    Y_pat = h5[\"Y_pat\"][:]\n",
    "    pat = h5[\"pat\"][:]\n",
    "\n",
    "X_in = np.expand_dims(X_in, axis = 4)\n",
    "\n",
    "print(\"image shape in: \", X_in.shape)\n",
    "print(\"image min, max, mean, std: \", X_in.min(), X_in.max(), X_in.mean(), X_in.std())\n",
    "\n",
    "\n",
    "## read tabular data\n",
    "dat = pd.read_csv(path_tab, sep=\",\")\n",
    "\n",
    "print(\"tabular shape in: \", dat.shape)"
   ]
  },
  {
   "cell_type": "code",
   "execution_count": 5,
   "metadata": {},
   "outputs": [
    {
     "name": "stdout",
     "output_type": "stream",
     "text": [
      "X img out shape:  (407, 128, 128, 28, 1)\n",
      "X tab out shape:  (407, 13)\n",
      "Y mrs out shape:  (407,)\n"
     ]
    }
   ],
   "source": [
    "n = []\n",
    "for p in pat:\n",
    "    if p in dat.p_id.values:\n",
    "        n.append(p)\n",
    "n = len(n)\n",
    "\n",
    "# match image and tabular data\n",
    "X = np.zeros((n, X_in.shape[1], X_in.shape[2], X_in.shape[3], X_in.shape[4]))\n",
    "X_tab = np.zeros((n, 13))\n",
    "Y_mrs = np.zeros((n))\n",
    "Y_eventtia = np.zeros((n))\n",
    "p_id = np.zeros((n))\n",
    "\n",
    "i = 0\n",
    "for j, p in enumerate(pat):\n",
    "    if p in dat.p_id.values:\n",
    "        k = np.where(dat.p_id.values == p)[0]\n",
    "        X_tab[i,:] = dat.loc[k,[\"age\", \"sexm\", \"nihss_baseline\", \"mrs_before\",\n",
    "                               \"stroke_beforey\", \"tia_beforey\", \"ich_beforey\", \n",
    "                               \"rf_hypertoniay\", \"rf_diabetesy\", \"rf_hypercholesterolemiay\", \n",
    "                               \"rf_smokery\", \"rf_atrial_fibrillationy\", \"rf_chdy\"]]\n",
    "        X[i] = X_in[j]\n",
    "        p_id[i] = pat[j]\n",
    "        Y_eventtia[i] = Y_pat[j]\n",
    "        Y_mrs[i] = dat.loc[k, \"mrs3\"]\n",
    "        i += 1\n",
    "p_id = p_id.astype(\"int\")\n",
    "        \n",
    "print(\"X img out shape: \", X.shape)\n",
    "print(\"X tab out shape: \", X_tab.shape)\n",
    "print(\"Y mrs out shape: \", Y_mrs.shape)"
   ]
  },
  {
   "cell_type": "code",
   "execution_count": 6,
   "metadata": {},
   "outputs": [],
   "source": [
    "## all mrs <= 2 are favorable all higher unfavorable\n",
    "Y_new = []\n",
    "for element in Y_mrs:\n",
    "    if element in [0,1,2]:\n",
    "        Y_new.append(0)\n",
    "    else:\n",
    "        Y_new.append(1)\n",
    "Y_new = np.array(Y_new)"
   ]
  },
  {
   "cell_type": "code",
   "execution_count": 7,
   "metadata": {},
   "outputs": [
    {
     "data": {
      "text/plain": [
       "<AxesSubplot:ylabel='count'>"
      ]
     },
     "execution_count": 7,
     "metadata": {},
     "output_type": "execute_result"
    },
    {
     "data": {
      "image/png": "[encoded data removed]",
      "text/plain": [
       "<Figure size 432x288 with 2 Axes>"
      ]
     },
     "metadata": {
      "needs_background": "light"
     },
     "output_type": "display_data"
    }
   ],
   "source": [
    "fig, (ax1, ax2) = plt.subplots(1,2)\n",
    "sns.countplot(x = Y_mrs, ax = ax1)\n",
    "sns.countplot(x = Y_new, ax = ax2)"
   ]
  },
  {
   "cell_type": "code",
   "execution_count": 8,
   "metadata": {},
   "outputs": [],
   "source": [
    "# Safe ids in pd\n",
    "id_tab = pd.DataFrame(\n",
    "    {\"p_idx\": range(1, len(p_id)+1),\n",
    "     \"p_id\": p_id,\n",
    "     \"mrs\": Y_mrs,\n",
    "     \"unfavorable\": Y_new\n",
    "    }\n",
    ")"
   ]
  },
  {
   "cell_type": "markdown",
   "metadata": {},
   "source": [
    "## Define Splits"
   ]
  },
  {
   "cell_type": "code",
   "execution_count": 9,
   "metadata": {},
   "outputs": [
    {
     "name": "stdout",
     "output_type": "stream",
     "text": [
      "7\n",
      "7\n",
      "8\n",
      "8\n",
      "8\n",
      "8\n",
      "8\n",
      "7\n",
      "7\n",
      "7\n"
     ]
    }
   ],
   "source": [
    "# Create StratifiedKFold object.\n",
    "skf = StratifiedKFold(n_splits=10, shuffle=True, random_state=100)\n",
    "folds = []\n",
    "  \n",
    "for train_index, test_index in skf.split(p_id, Y_new):\n",
    "    folds.append(p_id[test_index])\n",
    "    print(sum(Y_new[test_index]))"
   ]
  },
  {
   "cell_type": "code",
   "execution_count": 10,
   "metadata": {},
   "outputs": [
    {
     "name": "stdout",
     "output_type": "stream",
     "text": [
      "41\n",
      "41\n",
      "41\n",
      "41\n",
      "41\n",
      "41\n",
      "41\n",
      "40\n",
      "40\n",
      "40\n"
     ]
    }
   ],
   "source": [
    "for fold in folds:\n",
    "    print(len(fold))"
   ]
  },
  {
   "cell_type": "code",
   "execution_count": 11,
   "metadata": {},
   "outputs": [],
   "source": [
    "for i, fold in enumerate(folds):\n",
    "    id_tab[\"fold\" + str(i)] = \"train\" \n",
    "    \n",
    "    # increment for val (+5 so that not twice has only 40 in train & test)\n",
    "    j = i+5\n",
    "    if j >= len(folds):\n",
    "        j = j-10\n",
    "\n",
    "    id_tab.loc[id_tab[\"p_id\"].isin(fold), \"fold\"+str(i)] = \"test\"\n",
    "    id_tab.loc[id_tab[\"p_id\"].isin(folds[j]), \"fold\"+str(i)] = \"val\""
   ]
  },
  {
   "cell_type": "code",
   "execution_count": 12,
   "metadata": {},
   "outputs": [
    {
     "data": {
      "text/html": [
       "<div>\n",
       "<style scoped>\n",
       "    .dataframe tbody tr th:only-of-type {\n",
       "        vertical-align: middle;\n",
       "    }\n",
       "\n",
       "    .dataframe tbody tr th {\n",
       "        vertical-align: top;\n",
       "    }\n",
       "\n",
       "    .dataframe thead th {\n",
       "        text-align: right;\n",
       "    }\n",
       "</style>\n",
       "<table border=\"1\" class=\"dataframe\">\n",
       "  <thead>\n",
       "    <tr style=\"text-align: right;\">\n",
       "      <th></th>\n",
       "      <th>p_idx</th>\n",
       "      <th>p_id</th>\n",
       "      <th>mrs</th>\n",
       "      <th>unfavorable</th>\n",
       "      <th>fold0</th>\n",
       "      <th>fold1</th>\n",
       "      <th>fold2</th>\n",
       "      <th>fold3</th>\n",
       "      <th>fold4</th>\n",
       "      <th>fold5</th>\n",
       "      <th>fold6</th>\n",
       "      <th>fold7</th>\n",
       "      <th>fold8</th>\n",
       "      <th>fold9</th>\n",
       "    </tr>\n",
       "  </thead>\n",
       "  <tbody>\n",
       "    <tr>\n",
       "      <th>0</th>\n",
       "      <td>1</td>\n",
       "      <td>1</td>\n",
       "      <td>1.0</td>\n",
       "      <td>0</td>\n",
       "      <td>val</td>\n",
       "      <td>train</td>\n",
       "      <td>train</td>\n",
       "      <td>train</td>\n",
       "      <td>train</td>\n",
       "      <td>test</td>\n",
       "      <td>train</td>\n",
       "      <td>train</td>\n",
       "      <td>train</td>\n",
       "      <td>train</td>\n",
       "    </tr>\n",
       "    <tr>\n",
       "      <th>1</th>\n",
       "      <td>2</td>\n",
       "      <td>2</td>\n",
       "      <td>1.0</td>\n",
       "      <td>0</td>\n",
       "      <td>val</td>\n",
       "      <td>train</td>\n",
       "      <td>train</td>\n",
       "      <td>train</td>\n",
       "      <td>train</td>\n",
       "      <td>test</td>\n",
       "      <td>train</td>\n",
       "      <td>train</td>\n",
       "      <td>train</td>\n",
       "      <td>train</td>\n",
       "    </tr>\n",
       "    <tr>\n",
       "      <th>2</th>\n",
       "      <td>3</td>\n",
       "      <td>3</td>\n",
       "      <td>0.0</td>\n",
       "      <td>0</td>\n",
       "      <td>train</td>\n",
       "      <td>train</td>\n",
       "      <td>train</td>\n",
       "      <td>train</td>\n",
       "      <td>val</td>\n",
       "      <td>train</td>\n",
       "      <td>train</td>\n",
       "      <td>train</td>\n",
       "      <td>train</td>\n",
       "      <td>test</td>\n",
       "    </tr>\n",
       "    <tr>\n",
       "      <th>3</th>\n",
       "      <td>4</td>\n",
       "      <td>5</td>\n",
       "      <td>0.0</td>\n",
       "      <td>0</td>\n",
       "      <td>train</td>\n",
       "      <td>test</td>\n",
       "      <td>train</td>\n",
       "      <td>train</td>\n",
       "      <td>train</td>\n",
       "      <td>train</td>\n",
       "      <td>val</td>\n",
       "      <td>train</td>\n",
       "      <td>train</td>\n",
       "      <td>train</td>\n",
       "    </tr>\n",
       "    <tr>\n",
       "      <th>4</th>\n",
       "      <td>5</td>\n",
       "      <td>6</td>\n",
       "      <td>3.0</td>\n",
       "      <td>1</td>\n",
       "      <td>train</td>\n",
       "      <td>val</td>\n",
       "      <td>train</td>\n",
       "      <td>train</td>\n",
       "      <td>train</td>\n",
       "      <td>train</td>\n",
       "      <td>test</td>\n",
       "      <td>train</td>\n",
       "      <td>train</td>\n",
       "      <td>train</td>\n",
       "    </tr>\n",
       "    <tr>\n",
       "      <th>...</th>\n",
       "      <td>...</td>\n",
       "      <td>...</td>\n",
       "      <td>...</td>\n",
       "      <td>...</td>\n",
       "      <td>...</td>\n",
       "      <td>...</td>\n",
       "      <td>...</td>\n",
       "      <td>...</td>\n",
       "      <td>...</td>\n",
       "      <td>...</td>\n",
       "      <td>...</td>\n",
       "      <td>...</td>\n",
       "      <td>...</td>\n",
       "      <td>...</td>\n",
       "    </tr>\n",
       "    <tr>\n",
       "      <th>402</th>\n",
       "      <td>403</td>\n",
       "      <td>555</td>\n",
       "      <td>0.0</td>\n",
       "      <td>0</td>\n",
       "      <td>train</td>\n",
       "      <td>test</td>\n",
       "      <td>train</td>\n",
       "      <td>train</td>\n",
       "      <td>train</td>\n",
       "      <td>train</td>\n",
       "      <td>val</td>\n",
       "      <td>train</td>\n",
       "      <td>train</td>\n",
       "      <td>train</td>\n",
       "    </tr>\n",
       "    <tr>\n",
       "      <th>403</th>\n",
       "      <td>404</td>\n",
       "      <td>556</td>\n",
       "      <td>0.0</td>\n",
       "      <td>0</td>\n",
       "      <td>train</td>\n",
       "      <td>train</td>\n",
       "      <td>test</td>\n",
       "      <td>train</td>\n",
       "      <td>train</td>\n",
       "      <td>train</td>\n",
       "      <td>train</td>\n",
       "      <td>val</td>\n",
       "      <td>train</td>\n",
       "      <td>train</td>\n",
       "    </tr>\n",
       "    <tr>\n",
       "      <th>404</th>\n",
       "      <td>405</td>\n",
       "      <td>557</td>\n",
       "      <td>1.0</td>\n",
       "      <td>0</td>\n",
       "      <td>train</td>\n",
       "      <td>train</td>\n",
       "      <td>train</td>\n",
       "      <td>train</td>\n",
       "      <td>val</td>\n",
       "      <td>train</td>\n",
       "      <td>train</td>\n",
       "      <td>train</td>\n",
       "      <td>train</td>\n",
       "      <td>test</td>\n",
       "    </tr>\n",
       "    <tr>\n",
       "      <th>405</th>\n",
       "      <td>406</td>\n",
       "      <td>559</td>\n",
       "      <td>1.0</td>\n",
       "      <td>0</td>\n",
       "      <td>train</td>\n",
       "      <td>train</td>\n",
       "      <td>train</td>\n",
       "      <td>val</td>\n",
       "      <td>train</td>\n",
       "      <td>train</td>\n",
       "      <td>train</td>\n",
       "      <td>train</td>\n",
       "      <td>test</td>\n",
       "      <td>train</td>\n",
       "    </tr>\n",
       "    <tr>\n",
       "      <th>406</th>\n",
       "      <td>407</td>\n",
       "      <td>563</td>\n",
       "      <td>0.0</td>\n",
       "      <td>0</td>\n",
       "      <td>test</td>\n",
       "      <td>train</td>\n",
       "      <td>train</td>\n",
       "      <td>train</td>\n",
       "      <td>train</td>\n",
       "      <td>val</td>\n",
       "      <td>train</td>\n",
       "      <td>train</td>\n",
       "      <td>train</td>\n",
       "      <td>train</td>\n",
       "    </tr>\n",
       "  </tbody>\n",
       "</table>\n",
       "<p>407 rows × 14 columns</p>\n",
       "</div>"
      ],
      "text/plain": [
       "     p_idx  p_id  mrs  unfavorable  fold0  fold1  fold2  fold3  fold4  fold5  \\\n",
       "0        1     1  1.0            0    val  train  train  train  train   test   \n",
       "1        2     2  1.0            0    val  train  train  train  train   test   \n",
       "2        3     3  0.0            0  train  train  train  train    val  train   \n",
       "3        4     5  0.0            0  train   test  train  train  train  train   \n",
       "4        5     6  3.0            1  train    val  train  train  train  train   \n",
       "..     ...   ...  ...          ...    ...    ...    ...    ...    ...    ...   \n",
       "402    403   555  0.0            0  train   test  train  train  train  train   \n",
       "403    404   556  0.0            0  train  train   test  train  train  train   \n",
       "404    405   557  1.0            0  train  train  train  train    val  train   \n",
       "405    406   559  1.0            0  train  train  train    val  train  train   \n",
       "406    407   563  0.0            0   test  train  train  train  train    val   \n",
       "\n",
       "     fold6  fold7  fold8  fold9  \n",
       "0    train  train  train  train  \n",
       "1    train  train  train  train  \n",
       "2    train  train  train   test  \n",
       "3      val  train  train  train  \n",
       "4     test  train  train  train  \n",
       "..     ...    ...    ...    ...  \n",
       "402    val  train  train  train  \n",
       "403  train    val  train  train  \n",
       "404  train  train  train   test  \n",
       "405  train  train   test  train  \n",
       "406  train  train  train  train  \n",
       "\n",
       "[407 rows x 14 columns]"
      ]
     },
     "execution_count": 12,
     "metadata": {},
     "output_type": "execute_result"
    }
   ],
   "source": [
    "id_tab"
   ]
  },
  {
   "cell_type": "code",
   "execution_count": 13,
   "metadata": {},
   "outputs": [
    {
     "name": "stdout",
     "output_type": "stream",
     "text": [
      "train    325\n",
      "val       41\n",
      "test      41\n",
      "Name: fold0, dtype: int64\n",
      "train    325\n",
      "val       41\n",
      "test      41\n",
      "Name: fold1, dtype: int64\n",
      "train    326\n",
      "test      41\n",
      "val       40\n",
      "Name: fold2, dtype: int64\n",
      "train    326\n",
      "test      41\n",
      "val       40\n",
      "Name: fold3, dtype: int64\n",
      "train    326\n",
      "test      41\n",
      "val       40\n",
      "Name: fold4, dtype: int64\n",
      "train    325\n",
      "val       41\n",
      "test      41\n",
      "Name: fold5, dtype: int64\n",
      "train    325\n",
      "val       41\n",
      "test      41\n",
      "Name: fold6, dtype: int64\n",
      "train    326\n",
      "val       41\n",
      "test      40\n",
      "Name: fold7, dtype: int64\n",
      "train    326\n",
      "val       41\n",
      "test      40\n",
      "Name: fold8, dtype: int64\n",
      "train    326\n",
      "val       41\n",
      "test      40\n",
      "Name: fold9, dtype: int64\n"
     ]
    }
   ],
   "source": [
    "for i in range(len(folds)):\n",
    "    print(id_tab[\"fold\"+str(i)].value_counts())"
   ]
  },
  {
   "cell_type": "markdown",
   "metadata": {},
   "source": [
    "## Save Data"
   ]
  },
  {
   "cell_type": "code",
   "execution_count": 14,
   "metadata": {},
   "outputs": [],
   "source": [
    "id_tab.to_csv(OUTPUT_DIR + \"10Fold_ids.csv\",  index=False)"
   ]
  },
  {
   "cell_type": "code",
   "execution_count": 15,
   "metadata": {},
   "outputs": [],
   "source": [
    "X = X.squeeze()\n",
    "X = np.float32(X)\n",
    "\n",
    "np.save(OUTPUT_DIR + \"prepocessed_dicom_3d.npy\", X)"
   ]
  },
  {
   "cell_type": "markdown",
   "metadata": {},
   "source": [
    "## Analyze Data"
   ]
  },
  {
   "cell_type": "code",
   "execution_count": 16,
   "metadata": {},
   "outputs": [],
   "source": [
    "id_tab = pd.read_csv(OUTPUT_DIR + \"10Fold_ids.csv\", sep=\",\")\n",
    "X = np.load(OUTPUT_DIR + \"prepocessed_dicom_3d.npy\")"
   ]
  },
  {
   "cell_type": "code",
   "execution_count": 17,
   "metadata": {},
   "outputs": [
    {
     "data": {
      "text/plain": [
       "0    332\n",
       "1     75\n",
       "Name: unfavorable, dtype: int64"
      ]
     },
     "execution_count": 17,
     "metadata": {},
     "output_type": "execute_result"
    }
   ],
   "source": [
    "id_tab[\"unfavorable\"].value_counts()"
   ]
  },
  {
   "cell_type": "code",
   "execution_count": 18,
   "metadata": {
    "scrolled": false
   },
   "outputs": [
    {
     "data": {
      "image/png": "[encoded data removed]",
      "text/plain": [
       "<Figure size 432x288 with 2 Axes>"
      ]
     },
     "metadata": {
      "needs_background": "light"
     },
     "output_type": "display_data"
    },
    {
     "data": {
      "image/png": "[encoded data removed]",
      "text/plain": [
       "<Figure size 432x288 with 2 Axes>"
      ]
     },
     "metadata": {
      "needs_background": "light"
     },
     "output_type": "display_data"
    },
    {
     "data": {
      "image/png": "[encoded data removed]",
      "text/plain": [
       "<Figure size 432x288 with 2 Axes>"
      ]
     },
     "metadata": {
      "needs_background": "light"
     },
     "output_type": "display_data"
    },
    {
     "data": {
      "image/png": "[encoded data removed]",
      "text/plain": [
       "<Figure size 432x288 with 2 Axes>"
      ]
     },
     "metadata": {
      "needs_background": "light"
     },
     "output_type": "display_data"
    },
    {
     "data": {
      "image/png": "[encoded data removed]",
      "text/plain": [
       "<Figure size 432x288 with 2 Axes>"
      ]
     },
     "metadata": {
      "needs_background": "light"
     },
     "output_type": "display_data"
    },
    {
     "data": {
      "image/png": "[encoded data removed]",
      "text/plain": [
       "<Figure size 432x288 with 2 Axes>"
      ]
     },
     "metadata": {
      "needs_background": "light"
     },
     "output_type": "display_data"
    },
    {
     "data": {
      "image/png": "[encoded data removed]",
      "text/plain": [
       "<Figure size 432x288 with 2 Axes>"
      ]
     },
     "metadata": {
      "needs_background": "light"
     },
     "output_type": "display_data"
    },
    {
     "data": {
      "image/png": "[encoded data removed]",
      "text/plain": [
       "<Figure size 432x288 with 2 Axes>"
      ]
     },
     "metadata": {
      "needs_background": "light"
     },
     "output_type": "display_data"
    },
    {
     "data": {
      "image/png": "[encoded data removed]",
      "text/plain": [
       "<Figure size 432x288 with 2 Axes>"
      ]
     },
     "metadata": {
      "needs_background": "light"
     },
     "output_type": "display_data"
    },
    {
     "data": {
      "image/png": "[encoded data removed]",
      "text/plain": [
       "<Figure size 432x288 with 2 Axes>"
      ]
     },
     "metadata": {
      "needs_background": "light"
     },
     "output_type": "display_data"
    }
   ],
   "source": [
    "for i in range(10):\n",
    "    fig, (ax1, ax2) = plt.subplots(1,2)\n",
    "    sns.countplot(x = id_tab[id_tab[\"fold\"+str(i)]==\"test\"].mrs, ax = ax1)\n",
    "    sns.countplot(x = id_tab[id_tab[\"fold\"+str(i)]==\"test\"].unfavorable, ax = ax2)"
   ]
  },
  {
   "cell_type": "markdown",
   "metadata": {},
   "source": [
    "### Check Images\n",
    "\n",
    "Check if images are the same when accessing them."
   ]
  },
  {
   "cell_type": "code",
   "execution_count": 19,
   "metadata": {},
   "outputs": [
    {
     "name": "stdout",
     "output_type": "stream",
     "text": [
      "Int64Index([323], dtype='int64')\n",
      "346\n"
     ]
    }
   ],
   "source": [
    "patient = 460\n",
    "index1 = id_tab[id_tab.p_id == patient].index\n",
    "print(index1)\n",
    "index2 = np.argwhere(pat == patient).squeeze()\n",
    "print(index2)"
   ]
  },
  {
   "cell_type": "code",
   "execution_count": 20,
   "metadata": {},
   "outputs": [
    {
     "data": {
      "text/plain": [
       "True"
      ]
     },
     "execution_count": 20,
     "metadata": {},
     "output_type": "execute_result"
    }
   ],
   "source": [
    "im1 = X[index1].astype(\"float64\")\n",
    "im2 = X_in.squeeze()[index2].astype(\"float64\")\n",
    "np.allclose(im1, im2)"
   ]
  }
 ],
 "metadata": {
  "kernelspec": {
   "display_name": "Python 3",
   "language": "python",
   "name": "python3"
  },
  "language_info": {
   "codemirror_mode": {
    "name": "ipython",
    "version": 3
   },
   "file_extension": ".py",
   "mimetype": "text/x-python",
   "name": "python",
   "nbconvert_exporter": "python",
   "pygments_lexer": "ipython3",
   "version": "3.6.9"
  }
 },
 "nbformat": 4,
 "nbformat_minor": 2
}
